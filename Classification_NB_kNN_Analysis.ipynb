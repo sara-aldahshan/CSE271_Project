{
 "cells": [
  {
   "cell_type": "code",
   "execution_count": null,
   "id": "4db731de",
   "metadata": {},
   "outputs": [],
   "source": [
    "import pandas as pd\n",
    "import seaborn as sns\n",
    "import matplotlib.pyplot as plt\n",
    "from sklearn.model_selection import train_test_split\n",
    "from sklearn.preprocessing import LabelEncoder\n",
    "from sklearn.naive_bayes import GaussianNB\n",
    "from sklearn.neighbors import KNeighborsClassifier\n",
    "from sklearn.metrics import classification_report, confusion_matrix\n"
   ]
  },
  {
   "cell_type": "code",
   "execution_count": null,
   "id": "7f6b1317",
   "metadata": {},
   "outputs": [],
   "source": [
    "file_path = \"Final_Dataset.xlsx\"\n",
    "xls = pd.ExcelFile(file_path)\n",
    "df = xls.parse('User_ID,Age,Gender,Total_App_Us')\n"
   ]
  },
  {
   "cell_type": "code",
   "execution_count": null,
   "id": "5402aeb9",
   "metadata": {},
   "outputs": [],
   "source": [
    "def age_group(age):\n",
    "    if 20 <= age <= 30:\n",
    "        return 'Young'\n",
    "    elif 30 < age <= 50:\n",
    "        return 'Middle'\n",
    "    elif 50 < age <= 60:\n",
    "        return 'Older'\n",
    "    else:\n",
    "        return None\n",
    "\n",
    "df['Age_Group'] = df['Age'].apply(age_group)\n",
    "df = df[df['Age_Group'].notna()]\n"
   ]
  },
  {
   "cell_type": "code",
   "execution_count": null,
   "id": "30a85f8a",
   "metadata": {},
   "outputs": [],
   "source": [
    "label_encoders = {}\n",
    "for col in ['Gender', 'Location', 'Relationship_Status']:\n",
    "    le = LabelEncoder()\n",
    "    df[col] = le.fit_transform(df[col])\n",
    "    label_encoders[col] = le\n",
    "\n",
    "df = df.dropna()\n",
    "X = df.drop(columns=['User_ID', 'Age', 'Age_Group'])\n",
    "y = df['Age_Group']\n",
    "X_train, X_test, y_train, y_test = train_test_split(X, y, test_size=0.2, random_state=42)\n"
   ]
  },
  {
   "cell_type": "code",
   "execution_count": null,
   "id": "97cab643",
   "metadata": {},
   "outputs": [],
   "source": [
    "nb_model = GaussianNB()\n",
    "nb_model.fit(X_train, y_train)\n",
    "y_pred = nb_model.predict(X_test)\n",
    "report = classification_report(y_test, y_pred, output_dict=True)\n",
    "pd.DataFrame(report).transpose()\n"
   ]
  },
  {
   "cell_type": "code",
   "execution_count": null,
   "id": "eddf4e7f",
   "metadata": {},
   "outputs": [],
   "source": [
    "conf_matrix = confusion_matrix(y_test, y_pred)\n",
    "plt.figure(figsize=(6, 5))\n",
    "sns.heatmap(conf_matrix, annot=True, fmt='d', cmap='Blues',\n",
    "            xticklabels=nb_model.classes_, yticklabels=nb_model.classes_)\n",
    "plt.xlabel('Predicted')\n",
    "plt.ylabel('Actual')\n",
    "plt.title('Confusion Matrix - Naïve Bayes Classifier')\n",
    "plt.tight_layout()\n",
    "plt.show()\n"
   ]
  },
  {
   "cell_type": "code",
   "execution_count": null,
   "id": "31de5c9a",
   "metadata": {},
   "outputs": [],
   "source": [
    "from sklearn.preprocessing import LabelEncoder\n",
    "label_encoder = LabelEncoder()\n",
    "y_test_encoded = label_encoder.fit_transform(y_test)\n",
    "y_pred_encoded = label_encoder.transform(y_pred)\n",
    "\n",
    "plt.figure(figsize=(10, 5))\n",
    "plt.scatter(range(len(y_test_encoded)), y_test_encoded, label='True', marker='o')\n",
    "plt.scatter(range(len(y_pred_encoded)), y_pred_encoded, label='Predicted', marker='x')\n",
    "plt.title(\"True vs Predicted Labels - Naïve Bayes\")\n",
    "plt.xlabel(\"Sample Index\")\n",
    "plt.ylabel(\"Class Label (Encoded)\")\n",
    "plt.legend()\n",
    "plt.tight_layout()\n",
    "plt.show()\n"
   ]
  },
  {
   "cell_type": "code",
   "execution_count": null,
   "id": "531c414c",
   "metadata": {},
   "outputs": [],
   "source": [
    "knn_model = KNeighborsClassifier(n_neighbors=5)\n",
    "knn_model.fit(X_train, y_train)\n",
    "y_knn_pred = knn_model.predict(X_test)\n",
    "knn_report = classification_report(y_test, y_knn_pred, output_dict=True)\n",
    "pd.DataFrame(knn_report).transpose()\n"
   ]
  },
  {
   "cell_type": "code",
   "execution_count": null,
   "id": "206f5354",
   "metadata": {},
   "outputs": [],
   "source": [
    "knn_conf_matrix = confusion_matrix(y_test, y_knn_pred)\n",
    "plt.figure(figsize=(6, 5))\n",
    "sns.heatmap(knn_conf_matrix, annot=True, fmt='d', cmap='Greens',\n",
    "            xticklabels=knn_model.classes_, yticklabels=knn_model.classes_)\n",
    "plt.xlabel('Predicted')\n",
    "plt.ylabel('Actual')\n",
    "plt.title('Confusion Matrix - kNN Classifier')\n",
    "plt.tight_layout()\n",
    "plt.show()\n"
   ]
  },
  {
   "cell_type": "code",
   "execution_count": null,
   "id": "8de0bae6",
   "metadata": {},
   "outputs": [],
   "source": [
    "label_encoder_knn = LabelEncoder()\n",
    "y_test_knn_encoded = label_encoder_knn.fit_transform(y_test)\n",
    "y_knn_pred_encoded = label_encoder_knn.transform(y_knn_pred)\n",
    "\n",
    "plt.figure(figsize=(10, 5))\n",
    "plt.scatter(range(len(y_test_knn_encoded)), y_test_knn_encoded, label='True', marker='o')\n",
    "plt.scatter(range(len(y_knn_pred_encoded)), y_knn_pred_encoded, label='Predicted', marker='x')\n",
    "plt.title(\"True vs Predicted Labels - kNN Classifier\")\n",
    "plt.xlabel(\"Sample Index\")\n",
    "plt.ylabel(\"Class Label (Encoded)\")\n",
    "plt.legend()\n",
    "plt.tight_layout()\n",
    "plt.show()\n"
   ]
  }
 ],
 "metadata": {},
 "nbformat": 4,
 "nbformat_minor": 5
}